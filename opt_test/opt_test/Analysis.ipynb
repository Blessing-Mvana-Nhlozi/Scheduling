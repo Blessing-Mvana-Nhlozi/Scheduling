{
 "cells": [
  {
   "cell_type": "markdown",
   "id": "1d2e2610-54c1-4d71-9862-c271e5759133",
   "metadata": {},
   "source": [
    "Check if there is any missing catogorise, consistency of categories in every dataset (techers, students, subjects/class, periods, weekdays)\n",
    "\n",
    "check for data quality (check duplicates, nulls, etc)\n",
    "check for inconsistencies"
   ]
  },
  {
   "cell_type": "code",
   "execution_count": 1,
   "id": "56ac142a-2fe1-48e6-9183-2f4d7c3ecb62",
   "metadata": {},
   "outputs": [],
   "source": [
    "import pandas as pd"
   ]
  },
  {
   "cell_type": "code",
   "execution_count": 2,
   "id": "d63fce09-61cd-460d-a210-0970344b69c7",
   "metadata": {},
   "outputs": [],
   "source": [
    "# Read CSV\n",
    "class_list = pd.read_csv(\"class_list.csv\")\n",
    "lessons_required = pd.read_csv(\"lessons_required.csv\")\n",
    "student_classes = pd.read_csv(\"student_classes.csv\")\n",
    "student_list = pd.read_csv(\"student_list.csv\")\n",
    "teacher_classes = pd.read_csv(\"teacher_classes.csv\")\n",
    "teacher_list = pd.read_csv(\"teacher_list.csv\")\n",
    "timeslots_days = pd.read_csv(\"timeslots.csv\")\n",
    "weekday = pd.read_csv(\"weekdays.csv\")"
   ]
  },
  {
   "cell_type": "code",
   "execution_count": 3,
   "id": "62f868bf-cd74-43dc-8a87-1a9724e3f8da",
   "metadata": {},
   "outputs": [],
   "source": [
    "# student_classes = student_classes[student_classes['class']!='isizulu-12']\n",
    "# teacher_classes = teacher_classes[teacher_classes['class']!='isizulu-12']"
   ]
  },
  {
   "cell_type": "code",
   "execution_count": 4,
   "id": "6e2bbda0-12cf-4b8d-ae7d-848deedc72f2",
   "metadata": {
    "scrolled": true
   },
   "outputs": [
    {
     "data": {
      "text/html": [
       "<div>\n",
       "<style scoped>\n",
       "    .dataframe tbody tr th:only-of-type {\n",
       "        vertical-align: middle;\n",
       "    }\n",
       "\n",
       "    .dataframe tbody tr th {\n",
       "        vertical-align: top;\n",
       "    }\n",
       "\n",
       "    .dataframe thead th {\n",
       "        text-align: right;\n",
       "    }\n",
       "</style>\n",
       "<table border=\"1\" class=\"dataframe\">\n",
       "  <thead>\n",
       "    <tr style=\"text-align: right;\">\n",
       "      <th></th>\n",
       "      <th>class</th>\n",
       "      <th>subject</th>\n",
       "      <th>grade</th>\n",
       "    </tr>\n",
       "  </thead>\n",
       "  <tbody>\n",
       "    <tr>\n",
       "      <th>21</th>\n",
       "      <td>geog-12</td>\n",
       "      <td>geog</td>\n",
       "      <td>12</td>\n",
       "    </tr>\n",
       "    <tr>\n",
       "      <th>52</th>\n",
       "      <td>isizulu-11</td>\n",
       "      <td>isizulu</td>\n",
       "      <td>11</td>\n",
       "    </tr>\n",
       "    <tr>\n",
       "      <th>53</th>\n",
       "      <td>isizulu-10</td>\n",
       "      <td>isizulu</td>\n",
       "      <td>10</td>\n",
       "    </tr>\n",
       "  </tbody>\n",
       "</table>\n",
       "</div>"
      ],
      "text/plain": [
       "         class  subject grade\n",
       "21     geog-12     geog    12\n",
       "52  isizulu-11  isizulu    11\n",
       "53  isizulu-10  isizulu    10"
      ]
     },
     "execution_count": 4,
     "metadata": {},
     "output_type": "execute_result"
    }
   ],
   "source": [
    "class_list[['subject', 'grade']] = class_list['class'].str.rsplit('-', n=1, expand=True)\n",
    "# Count grades per subject\n",
    "grade_counts = class_list.groupby('subject')['grade'].nunique().reset_index(name='count')\n",
    "\n",
    "# Filter subjects where count != 3\n",
    "problem_subjects = grade_counts[grade_counts['count'] != 3]\n",
    "\n",
    "# Get full rows from class_list for those subjects\n",
    "class_list[class_list['subject'].isin(problem_subjects['subject'])]"
   ]
  },
  {
   "cell_type": "code",
   "execution_count": 5,
   "id": "7626680d-2c84-4c63-8171-413b6ae1dd12",
   "metadata": {
    "scrolled": true
   },
   "outputs": [
    {
     "data": {
      "text/html": [
       "<div>\n",
       "<style scoped>\n",
       "    .dataframe tbody tr th:only-of-type {\n",
       "        vertical-align: middle;\n",
       "    }\n",
       "\n",
       "    .dataframe tbody tr th {\n",
       "        vertical-align: top;\n",
       "    }\n",
       "\n",
       "    .dataframe thead th {\n",
       "        text-align: right;\n",
       "    }\n",
       "</style>\n",
       "<table border=\"1\" class=\"dataframe\">\n",
       "  <thead>\n",
       "    <tr style=\"text-align: right;\">\n",
       "      <th></th>\n",
       "      <th>class</th>\n",
       "      <th>subject</th>\n",
       "      <th>grade</th>\n",
       "    </tr>\n",
       "  </thead>\n",
       "  <tbody>\n",
       "    <tr>\n",
       "      <th>357</th>\n",
       "      <td>geog-12</td>\n",
       "      <td>geog</td>\n",
       "      <td>12</td>\n",
       "    </tr>\n",
       "  </tbody>\n",
       "</table>\n",
       "</div>"
      ],
      "text/plain": [
       "       class subject grade\n",
       "357  geog-12    geog    12"
      ]
     },
     "execution_count": 5,
     "metadata": {},
     "output_type": "execute_result"
    }
   ],
   "source": [
    "student_classes[['subject', 'grade']] = student_classes['class'].str.rsplit('-', n=1, expand=True)\n",
    "# Count grades per subject\n",
    "grade_counts = student_classes.groupby('subject')['grade'].nunique().reset_index(name='count')\n",
    "\n",
    "# Filter subjects where count != 3\n",
    "problem_subjects = grade_counts[grade_counts['count'] != 3]\n",
    "\n",
    "# Get full rows from class_list for those subjects\n",
    "student_classes[student_classes['subject'].isin(problem_subjects['subject'])][['class', 'subject', 'grade']].drop_duplicates()"
   ]
  },
  {
   "cell_type": "code",
   "execution_count": 6,
   "id": "a37ffee4-d9e2-4cb3-8265-d76ff2d23648",
   "metadata": {
    "scrolled": true
   },
   "outputs": [
    {
     "data": {
      "text/html": [
       "<div>\n",
       "<style scoped>\n",
       "    .dataframe tbody tr th:only-of-type {\n",
       "        vertical-align: middle;\n",
       "    }\n",
       "\n",
       "    .dataframe tbody tr th {\n",
       "        vertical-align: top;\n",
       "    }\n",
       "\n",
       "    .dataframe thead th {\n",
       "        text-align: right;\n",
       "    }\n",
       "</style>\n",
       "<table border=\"1\" class=\"dataframe\">\n",
       "  <thead>\n",
       "    <tr style=\"text-align: right;\">\n",
       "      <th></th>\n",
       "      <th>teacher</th>\n",
       "      <th>class</th>\n",
       "      <th>subject</th>\n",
       "      <th>grade</th>\n",
       "    </tr>\n",
       "  </thead>\n",
       "  <tbody>\n",
       "    <tr>\n",
       "      <th>0</th>\n",
       "      <td>Zuhra al-Bina</td>\n",
       "      <td>geog-12</td>\n",
       "      <td>geog</td>\n",
       "      <td>12</td>\n",
       "    </tr>\n",
       "  </tbody>\n",
       "</table>\n",
       "</div>"
      ],
      "text/plain": [
       "         teacher    class subject grade\n",
       "0  Zuhra al-Bina  geog-12    geog    12"
      ]
     },
     "execution_count": 6,
     "metadata": {},
     "output_type": "execute_result"
    }
   ],
   "source": [
    "teacher_classes[['subject', 'grade']] = teacher_classes['class'].str.rsplit('-', n=1, expand=True)\n",
    "# Count grades per subject\n",
    "grade_counts = teacher_classes.groupby('subject')['grade'].nunique().reset_index(name='count')\n",
    "\n",
    "# Filter subjects where count != 3\n",
    "problem_subjects = grade_counts[grade_counts['count'] != 3]\n",
    "\n",
    "# Get full rows from class_list for those subjects\n",
    "teacher_classes[teacher_classes['subject'].isin(problem_subjects['subject'])]"
   ]
  },
  {
   "cell_type": "code",
   "execution_count": 7,
   "id": "33713b35-1752-46f8-ad1c-ea8f92f01422",
   "metadata": {
    "scrolled": true
   },
   "outputs": [
    {
     "data": {
      "text/html": [
       "<div>\n",
       "<style scoped>\n",
       "    .dataframe tbody tr th:only-of-type {\n",
       "        vertical-align: middle;\n",
       "    }\n",
       "\n",
       "    .dataframe tbody tr th {\n",
       "        vertical-align: top;\n",
       "    }\n",
       "\n",
       "    .dataframe thead th {\n",
       "        text-align: right;\n",
       "    }\n",
       "</style>\n",
       "<table border=\"1\" class=\"dataframe\">\n",
       "  <thead>\n",
       "    <tr style=\"text-align: right;\">\n",
       "      <th></th>\n",
       "      <th>class</th>\n",
       "      <th>num_lessons</th>\n",
       "      <th>subject</th>\n",
       "      <th>grade</th>\n",
       "    </tr>\n",
       "  </thead>\n",
       "  <tbody>\n",
       "    <tr>\n",
       "      <th>2</th>\n",
       "      <td>isizulu-10</td>\n",
       "      <td>7</td>\n",
       "      <td>isizulu</td>\n",
       "      <td>10</td>\n",
       "    </tr>\n",
       "    <tr>\n",
       "      <th>8</th>\n",
       "      <td>isizulu-11</td>\n",
       "      <td>7</td>\n",
       "      <td>isizulu</td>\n",
       "      <td>11</td>\n",
       "    </tr>\n",
       "    <tr>\n",
       "      <th>47</th>\n",
       "      <td>geog-12</td>\n",
       "      <td>6</td>\n",
       "      <td>geog</td>\n",
       "      <td>12</td>\n",
       "    </tr>\n",
       "  </tbody>\n",
       "</table>\n",
       "</div>"
      ],
      "text/plain": [
       "         class  num_lessons  subject grade\n",
       "2   isizulu-10            7  isizulu    10\n",
       "8   isizulu-11            7  isizulu    11\n",
       "47     geog-12            6     geog    12"
      ]
     },
     "execution_count": 7,
     "metadata": {},
     "output_type": "execute_result"
    }
   ],
   "source": [
    "# Split subject and grade\n",
    "lessons_required[['subject', 'grade']] = lessons_required['class'].str.rsplit('-', n=1, expand=True)\n",
    "\n",
    "# Count unique grades per subject\n",
    "grade_counts = lessons_required.groupby('subject')['grade'].nunique().reset_index(name='count')\n",
    "\n",
    "# Filter subjects with not exactly 3 grades\n",
    "problem_subjects = grade_counts[grade_counts['count'] != 3]\n",
    "\n",
    "# Get original classes belonging to those subjects\n",
    "problem_classes = lessons_required[lessons_required['subject'].isin(problem_subjects['subject'])]\n",
    "problem_classes"
   ]
  }
 ],
 "metadata": {
  "kernelspec": {
   "display_name": "Python 3 (ipykernel)",
   "language": "python",
   "name": "python3"
  },
  "language_info": {
   "codemirror_mode": {
    "name": "ipython",
    "version": 3
   },
   "file_extension": ".py",
   "mimetype": "text/x-python",
   "name": "python",
   "nbconvert_exporter": "python",
   "pygments_lexer": "ipython3",
   "version": "3.11.13"
  }
 },
 "nbformat": 4,
 "nbformat_minor": 5
}
