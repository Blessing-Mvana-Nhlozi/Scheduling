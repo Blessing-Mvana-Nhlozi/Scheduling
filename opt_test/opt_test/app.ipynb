{
 "cells": [
  {
   "cell_type": "code",
   "execution_count": 1,
   "id": "e45fb893-ced8-42e3-8950-3c52c3bfd9ef",
   "metadata": {},
   "outputs": [],
   "source": [
    "from ortools.sat.python import cp_model\n",
    "import pandas as pd"
   ]
  },
  {
   "cell_type": "code",
   "execution_count": 2,
   "id": "9f11617b-c3c9-47f9-ab34-7047568abf54",
   "metadata": {},
   "outputs": [],
   "source": [
    "# Read CSV\n",
    "class_list = pd.read_csv(\"class_list.csv\")\n",
    "timeslots_days = pd.read_csv(\"timeslots.csv\")\n",
    "\n",
    "lessons_required = pd.read_csv(\"lessons_required.csv\")\n",
    "weekday = pd.read_csv(\"weekdays.csv\")\n",
    "teacher_classes = pd.read_csv(\"teacher_classes.csv\")\n",
    "student_classes = pd.read_csv(\"student_classes.csv\")\n",
    "\n",
    "teacher_list = pd.read_csv(\"teacher_list.csv\")"
   ]
  },
  {
   "cell_type": "code",
   "execution_count": 3,
   "id": "f527382c-677b-4260-ae42-8fc690adf4b4",
   "metadata": {},
   "outputs": [],
   "source": [
    "student_classes = student_classes[student_classes['class']!='isizulu-12']\n",
    "teacher_classes = teacher_classes[teacher_classes['class']!='isizulu-12']"
   ]
  },
  {
   "cell_type": "code",
   "execution_count": 4,
   "id": "0e4cdd4f-42c0-47b5-bc0f-2d367ba3dfca",
   "metadata": {},
   "outputs": [],
   "source": [
    "classes = list(class_list['class'])\n",
    "timeslots = list(timeslots_days['timeslot'])\n",
    "days = list(weekday['weekday'])\n",
    "periods = range(9)\n",
    "teacher = list(teacher_list['teacher'])\n",
    "\n",
    "num_lessons = dict(zip(lessons_required[\"class\"], lessons_required[\"num_lessons\"]))\n",
    "class_teacher = dict(zip(teacher_classes[\"class\"], teacher_classes[\"teacher\"]))\n",
    "class_students = student_classes.groupby(\"class\")[\"student\"].apply(list).to_dict()"
   ]
  },
  {
   "cell_type": "code",
   "execution_count": 5,
   "id": "77658364-78ae-4a50-a801-f0667f295af0",
   "metadata": {},
   "outputs": [],
   "source": [
    "# Quick diagnostics\n",
    "missing_lessons = [c for c in classes if c not in num_lessons]\n",
    "if missing_lessons:\n",
    "    print(\"Warning: these classes lack a num_lessons entry:\", missing_lessons)"
   ]
  },
  {
   "cell_type": "markdown",
   "id": "73a18e9b-fa72-4db8-a46e-1ae30d4468dc",
   "metadata": {},
   "source": [
    "## Model"
   ]
  },
  {
   "cell_type": "code",
   "execution_count": 6,
   "id": "9c2ed3c6-5c4d-4326-bd09-ce70190ae4b5",
   "metadata": {},
   "outputs": [],
   "source": [
    "model = cp_model.CpModel()"
   ]
  },
  {
   "cell_type": "markdown",
   "id": "98cad554-6e08-453f-af00-6d1137b68db4",
   "metadata": {},
   "source": [
    "## Variables\n",
    "\n",
    "We’ll create one **binary decision variable** per `(class, day, period)`"
   ]
  },
  {
   "cell_type": "code",
   "execution_count": 7,
   "id": "4ccd5200-b6d2-49b0-9130-26076797a258",
   "metadata": {},
   "outputs": [],
   "source": [
    "# Variables\n",
    "x = {}\n",
    "for c in classes:\n",
    "    for d in days:\n",
    "        for p in periods:\n",
    "            x[(c,d,p)] = model.NewBoolVar(f'x_{c}_{d}_{p}')"
   ]
  },
  {
   "cell_type": "markdown",
   "id": "dd150be5-5296-4a5c-95aa-8c4a2a31f715",
   "metadata": {},
   "source": [
    "## Constraints"
   ]
  },
  {
   "cell_type": "markdown",
   "id": "7e524af0-023e-4c22-8c26-f16456efc02b",
   "metadata": {},
   "source": [
    "### Required lessons per class\n",
    "\n",
    "Each class must be scheduled the exact number of times specified in `num_lessons`."
   ]
  },
  {
   "cell_type": "code",
   "execution_count": 8,
   "id": "19f2540d-9422-4426-9493-b00c90c5a008",
   "metadata": {},
   "outputs": [],
   "source": [
    "# Constraint: each class gets required lessons\n",
    "for c in classes:\n",
    "    if c not in num_lessons:\n",
    "        model.Add(sum(x[(c,d,p)] for d in days for p in periods) == 0)\n",
    "    else:\n",
    "        model.Add(sum(x[(c,d,p)] for d in days for p in periods) == int(num_lessons[c]))"
   ]
  },
  {
   "cell_type": "markdown",
   "id": "fad95708-d1db-430f-beba-cbd704ccb002",
   "metadata": {},
   "source": [
    "### Teachers cannot be double-booked\n",
    "\n",
    "For each `(day, period)`, a teacher can only teach one of their classes."
   ]
  },
  {
   "cell_type": "code",
   "execution_count": 9,
   "id": "9376b78c-35e3-4235-b9ef-6063845f2298",
   "metadata": {},
   "outputs": [],
   "source": [
    "for d in days:\n",
    "    for p in periods:\n",
    "        for t in set(class_teacher.values()): \n",
    "            teaching_classes = [cls for cls, teacher in class_teacher.items() if teacher == t]\n",
    "            if teaching_classes:\n",
    "                model.Add(sum(x[(c,d,p)] for c in teaching_classes if c in classes) <= 1)"
   ]
  },
  {
   "cell_type": "markdown",
   "id": "a996a1db-9f33-451d-9bcb-4e1fe5853f6b",
   "metadata": {},
   "source": [
    "### Students cannot be double-booked\n",
    "\n",
    "Same idea: For each `(day, period)`, a student can only attend one class."
   ]
  },
  {
   "cell_type": "code",
   "execution_count": 10,
   "id": "59b65391-48c7-4e08-968f-71d490a8829b",
   "metadata": {},
   "outputs": [],
   "source": [
    "# Soft constraint: students should not have clashes\n",
    "violations = []\n",
    "for d in days:\n",
    "    for p in periods:\n",
    "        all_students = {s for students in class_students.values() for s in students}\n",
    "        for s in all_students:\n",
    "            enrolled_classes = [c for c, students in class_students.items() if s in students]\n",
    "            if enrolled_classes:\n",
    "                v = model.NewBoolVar(f\"violation[{s},{d},{p}]\")\n",
    "                violations.append(v)\n",
    "                model.Add(sum(x[(c,d,p)] for c in enrolled_classes if c in classes) <= 1 + v)"
   ]
  },
  {
   "cell_type": "markdown",
   "id": "05f63706-2157-4537-891d-02e680339e1b",
   "metadata": {},
   "source": [
    "### Spread lessons across days (soft preference)\n",
    "\n",
    "For now, we’ll keep it simple, but later we can add an **objective** to penalize imbalance."
   ]
  },
  {
   "cell_type": "code",
   "execution_count": 11,
   "id": "f0f5289a-3be0-49d9-8033-d4f29941c27c",
   "metadata": {},
   "outputs": [],
   "source": [
    "violations_spread = []\n",
    "import math\n",
    "for c in classes:\n",
    "    lessons_needed = num_lessons[c]\n",
    "    avg = lessons_needed / len(days)  # target lessons per day (can be fractional)\n",
    "\n",
    "    for d in days:\n",
    "        day_lessons = sum(x[(c, d, p)] for p in periods)\n",
    "        dev = model.NewIntVar(0, lessons_needed, f\"spread_dev[{c},{d}]\")\n",
    "        violations_spread.append(dev)\n",
    "        model.Add(day_lessons - math.ceil(avg) <= dev)\n",
    "        model.Add(math.floor(avg) - day_lessons <= dev)"
   ]
  },
  {
   "cell_type": "code",
   "execution_count": 12,
   "id": "01c41859-3707-459a-a1cc-d7124c5380d6",
   "metadata": {},
   "outputs": [],
   "source": [
    "for c in classes:\n",
    "    for d in days:\n",
    "        vars_day = [x[(c, d, p)] for p in periods]\n",
    "        is_two = model.NewBoolVar(f\"{c}_{d}_is_two\")\n",
    "        model.Add(sum(vars_day) == 2).OnlyEnforceIf(is_two)\n",
    "        model.Add(sum(vars_day) <= 1).OnlyEnforceIf(is_two.Not()) \n",
    "        if len(periods) >= 2:\n",
    "            pair_bools = []\n",
    "            for p_idx in range(len(periods) - 1):\n",
    "                pair = model.NewBoolVar(f\"{c}_{d}_pair_{p_idx}\")\n",
    "                pair_bools.append(pair)\n",
    "                # pair -> both vars are 1\n",
    "                model.Add(vars_day[p_idx] == 1).OnlyEnforceIf(pair)\n",
    "                model.Add(vars_day[p_idx+1] == 1).OnlyEnforceIf(pair)\n",
    "            model.Add(sum(pair_bools) >= 1).OnlyEnforceIf(is_two)"
   ]
  },
  {
   "cell_type": "code",
   "execution_count": 13,
   "id": "4c5468f2-268d-4d56-ab77-ab8221bba765",
   "metadata": {},
   "outputs": [],
   "source": [
    "# Objective: minimize both total clashes and uneven spread\n",
    "model.Minimize(\n",
    "    sum(violations)             # student clashes\n",
    "    + sum(violations_spread)    # uneven spread\n",
    ")"
   ]
  },
  {
   "cell_type": "markdown",
   "id": "b71d110a-f2b8-4282-b9b4-1eaf02817f14",
   "metadata": {},
   "source": [
    "## Step 3. Solver & Output"
   ]
  },
  {
   "cell_type": "code",
   "execution_count": 14,
   "id": "43d04964-0a29-4f54-b910-f2b6a4af31d1",
   "metadata": {},
   "outputs": [],
   "source": [
    "solver = cp_model.CpSolver()\n",
    "solver.parameters.max_time_in_seconds = 20\n",
    "status = solver.Solve(model)"
   ]
  },
  {
   "cell_type": "code",
   "execution_count": 15,
   "id": "8fb1bf06-4921-4916-aff7-971e372d9ab8",
   "metadata": {},
   "outputs": [
    {
     "name": "stdout",
     "output_type": "stream",
     "text": [
      "Solution written to timetable_solution.csv\n"
     ]
    }
   ],
   "source": [
    "if status in [cp_model.OPTIMAL, cp_model.FEASIBLE]:\n",
    "    rows = []\n",
    "    for (c, d, p), var in x.items():\n",
    "        if solver.Value(var) == 1:\n",
    "            rows.append([d, p, c])\n",
    "    output = pd.DataFrame(rows, columns=['weekday', 'period', 'class'])\n",
    "    print(\"Solution written to timetable_solution.csv\")\n",
    "else:\n",
    "    raise RuntimeError(\"No feasible solution found. Stopping execution.\")"
   ]
  },
  {
   "cell_type": "code",
   "execution_count": 16,
   "id": "2c630498-ab23-45f0-85ee-42e9c375100a",
   "metadata": {},
   "outputs": [],
   "source": [
    "period_interval = timeslots_days.copy()\n",
    "\n",
    "# Split on ' - '\n",
    "split_cols = period_interval['timeslot'].str.rsplit(' - ', n=1, expand=True)\n",
    "\n",
    "# Clean start_time (remove weekday, replace '_' with ':')\n",
    "period_interval['start_time'] = (\n",
    "    split_cols[0]\n",
    "    .str.replace(r'^[A-Z]+\\s*', '', regex=True)  # drop weekday like 'FRI'\n",
    "    .str.replace('_', ':', regex=False)          # turn 07_45 -> 07:45\n",
    "    .str.strip()\n",
    ")\n",
    "\n",
    "# Get unique start times in order of appearance\n",
    "unique_times = period_interval['start_time'].drop_duplicates().tolist()\n",
    "\n",
    "period_start_times = pd.DataFrame({\n",
    "    \"period\": range(len(unique_times)),\n",
    "    \"start_time\": unique_times\n",
    "})\n",
    "\n",
    "period_interval = period_interval.merge(period_start_times, on=\"start_time\", how=\"left\")"
   ]
  },
  {
   "cell_type": "code",
   "execution_count": 17,
   "id": "184bd976-9aad-465e-9da9-be9bcdad5e7f",
   "metadata": {},
   "outputs": [],
   "source": [
    "final = output.merge(period_interval, on = ['period', 'weekday'], how  ='left')[['timeslot', 'class']]"
   ]
  },
  {
   "cell_type": "code",
   "execution_count": 18,
   "id": "4089ad07-f121-448d-abb6-88ff0f41f865",
   "metadata": {},
   "outputs": [],
   "source": [
    "final.to_csv(\"timetable.csv\", index=False)"
   ]
  }
 ],
 "metadata": {
  "kernelspec": {
   "display_name": "Python 3 (ipykernel)",
   "language": "python",
   "name": "python3"
  },
  "language_info": {
   "codemirror_mode": {
    "name": "ipython",
    "version": 3
   },
   "file_extension": ".py",
   "mimetype": "text/x-python",
   "name": "python",
   "nbconvert_exporter": "python",
   "pygments_lexer": "ipython3",
   "version": "3.11.13"
  }
 },
 "nbformat": 4,
 "nbformat_minor": 5
}
