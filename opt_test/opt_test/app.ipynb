{
 "cells": [
  {
   "cell_type": "code",
   "execution_count": 1,
   "id": "a8ec06a3-38ea-42fc-a6fe-494a74c74eaf",
   "metadata": {},
   "outputs": [],
   "source": [
    "from ortools.sat.python import cp_model\n",
    "from collections import defaultdict, Counter\n",
    "import random\n",
    "import pandas as pd\n",
    "import itertools\n",
    "import math"
   ]
  },
  {
   "cell_type": "code",
   "execution_count": 2,
   "id": "3a1bf674-c6c1-4df5-aa05-cd65ee21202c",
   "metadata": {},
   "outputs": [],
   "source": [
    "lessons_required = pd.read_csv(\"lessons_required.csv\")#lessons_required.csv\n",
    "student_classes = pd.read_csv(\"student_classes.csv\")\n",
    "teacher_classes = pd.read_csv(\"teacher_classes.csv\")\n",
    "timeslots = pd.read_csv(\"timeslots.csv\")"
   ]
  },
  {
   "cell_type": "code",
   "execution_count": 3,
   "id": "21711a1d-3ba3-46da-89ba-91272361be82",
   "metadata": {},
   "outputs": [],
   "source": [
    "lessons = lessons_required.loc[lessons_required.index.repeat(lessons_required['num_lessons'])][['class']].reset_index(drop=True)"
   ]
  },
  {
   "cell_type": "code",
   "execution_count": 4,
   "id": "929c2b23-9ae8-47f7-b2ff-97a5074c32e0",
   "metadata": {},
   "outputs": [],
   "source": [
    "classes_student_list = (\n",
    "    student_classes.groupby('class')['student']\n",
    "    .agg([\n",
    "        ('students', lambda x: ', '.join(sorted(x.unique()))),\n",
    "        ('total_students', lambda x: x.nunique())\n",
    "    ])\n",
    "    .reset_index()\n",
    ")\n",
    "\n",
    "\n",
    "teacher_classes_list = (\n",
    "    teacher_classes.groupby('class')['teacher']\n",
    "    .agg([\n",
    "        ('teachers', lambda x: ', '.join(sorted(x.unique()))),\n",
    "        ('total_teachers', lambda x: x.nunique())\n",
    "    ])\n",
    "    .reset_index()\n",
    ")"
   ]
  },
  {
   "cell_type": "code",
   "execution_count": 5,
   "id": "906ad0a4-eb6f-4790-81af-506bd203643b",
   "metadata": {},
   "outputs": [],
   "source": [
    "timetable = (\n",
    "    lessons\n",
    "        .merge(classes_student_list, on='class', how='left')\n",
    "        .merge(teacher_classes_list, on='class', how='left')\n",
    ")"
   ]
  },
  {
   "cell_type": "code",
   "execution_count": 6,
   "id": "35d94051-857d-4186-98c4-94334c744d25",
   "metadata": {},
   "outputs": [],
   "source": [
    "# timetable['timeslot'], timetable['start_time'], timetable['weekday'] = None, None, None\n",
    "timetable = timetable[['class', 'students', 'total_students', 'teachers', 'total_teachers']]"
   ]
  },
  {
   "cell_type": "code",
   "execution_count": 7,
   "id": "b4d3147f-703a-4ffd-abc7-2e9b478fb8aa",
   "metadata": {},
   "outputs": [],
   "source": [
    "def greedy_schedule(timetable_df, weekdays=None, periods_per_day=9, random_seed=42):\n",
    "    if weekdays is None:\n",
    "        weekdays = ['MON','TUE','WED','THU','FRI']\n",
    "    days = list(range(len(weekdays)))\n",
    "    periods = list(range(periods_per_day))\n",
    "    timeslot_list = [(d,p) for d in days for p in periods]\n",
    "\n",
    "    df = timetable_df.copy().reset_index(drop=True)\n",
    "    def to_list(v):\n",
    "        if pd.isna(v): return []\n",
    "        if isinstance(v, str):\n",
    "            return [s.strip() for s in v.split(',') if s.strip()]\n",
    "        if isinstance(v, (list, tuple, set)):\n",
    "            return list(v)\n",
    "        return [v]\n",
    "    df['teacher_list'] = df['teachers'].apply(to_list)\n",
    "    df['student_list'] = df['students'].apply(to_list)\n",
    "\n",
    "    # structures to quickly check conflicts\n",
    "    teacher_at_slot = defaultdict(set)  # (day,period) -> set(teachers)\n",
    "    student_at_slot = defaultdict(set)  # (day,period) -> set(students)\n",
    "    class_days = defaultdict(lambda: defaultdict(list))  # class -> day -> list(periods assigned)\n",
    "\n",
    "    # result arrays\n",
    "    assigned_weekday = [None]*len(df)\n",
    "    assigned_period = [None]*len(df)\n",
    "\n",
    "    random.seed(random_seed)\n",
    "    lessons_order = list(range(len(df)))\n",
    "    # heuristic: schedule classes with largest student counts first or most constrained (by teacher load)\n",
    "    df['n_students'] = df['student_list'].apply(len)\n",
    "    lessons_order.sort(key=lambda l: (-df.loc[l,'n_students'], df.loc[l,'class']))\n",
    "\n",
    "    for l in lessons_order:\n",
    "        best_score = None\n",
    "        best_slot = None\n",
    "        for (d,p) in timeslot_list:\n",
    "            # hard teacher clash check\n",
    "            teachers = df.at[l,'teacher_list']\n",
    "            if any(t in teacher_at_slot[(d,p)] for t in teachers):\n",
    "                continue\n",
    "            # check student clashes (we avoid where possible)\n",
    "            students = df.at[l,'student_list']\n",
    "            student_conflicts = sum(1 for s in students if s in student_at_slot[(d,p)])\n",
    "\n",
    "            # measure \"spread\" utility: prefer days where same class has fewer lessons\n",
    "            cls = df.at[l,'class']\n",
    "            num_class_on_day = len(class_days[cls][d])\n",
    "            # prefer days with fewer class lessons\n",
    "            spread_score = -num_class_on_day\n",
    "\n",
    "            # prefer consecutive: if class has lessons on same day, check distance to nearest period\n",
    "            nearest_dist = None\n",
    "            if class_days[cls][d]:\n",
    "                nearest_dist = min(abs(p - q) for q in class_days[cls][d])\n",
    "            else:\n",
    "                nearest_dist = 0  # starting day\n",
    "\n",
    "            # scoring: lower is better\n",
    "            # weight student_conflicts heavily, then penalize having multiple on same day, then distance\n",
    "            score = (student_conflicts * 1000) + (num_class_on_day * 10) + nearest_dist\n",
    "            # tie break with random\n",
    "            score = (score, random.random())\n",
    "\n",
    "            if best_score is None or score < best_score:\n",
    "                best_score = score\n",
    "                best_slot = (d,p)\n",
    "        if best_slot is None:\n",
    "            # no slot without teacher clash found; try to place into any slot by overriding teacher (should not happen)\n",
    "            raise Exception(f\"No feasible slot found for lesson {l} (teacher clash everywhere).\")\n",
    "        d,p = best_slot\n",
    "        assigned_weekday[l] = weekdays[d]\n",
    "        assigned_period[l] = p\n",
    "        for t in df.at[l,'teacher_list']:\n",
    "            teacher_at_slot[(d,p)].add(t)\n",
    "        for s in df.at[l,'student_list']:\n",
    "            student_at_slot[(d,p)].add(s)\n",
    "        class_days[df.at[l,'class']][d].append(p)\n",
    "\n",
    "    out = df.copy()\n",
    "    out['weekday'] = assigned_weekday\n",
    "    out['period'] = assigned_period\n",
    "    return out"
   ]
  },
  {
   "cell_type": "code",
   "execution_count": 8,
   "id": "6777bbb5-989e-4872-99d6-23ec8d618b02",
   "metadata": {},
   "outputs": [],
   "source": [
    "schedule = greedy_schedule(timetable, weekdays=['MON','TUE','WED','THU','FRI'], periods_per_day=9)"
   ]
  },
  {
   "cell_type": "code",
   "execution_count": 9,
   "id": "42a91ae1-36b0-4732-b757-3db6cbefc782",
   "metadata": {},
   "outputs": [],
   "source": [
    "period_interval = timeslots.copy()\n",
    "\n",
    "# Split on ' - '\n",
    "split_cols = period_interval['timeslot'].str.split(' - ', n=1, expand=True)\n",
    "\n",
    "# Clean start_time (remove weekday, replace '_' with ':')\n",
    "period_interval['start_time'] = (\n",
    "    split_cols[0]\n",
    "    .str.replace(r'^[A-Z]+\\s*', '', regex=True)  # drop weekday like 'FRI'\n",
    "    .str.replace('_', ':', regex=False)          # turn 07_45 -> 07:45\n",
    "    .str.strip()\n",
    ")\n",
    "\n",
    "# Get unique start times in order of appearance\n",
    "unique_times = period_interval['start_time'].drop_duplicates().tolist()\n",
    "\n",
    "period_start_times = pd.DataFrame({\n",
    "    \"period\": range(len(unique_times)),\n",
    "    \"start_time\": unique_times\n",
    "})\n",
    "\n",
    "period_interval = period_interval.merge(period_start_times, on=\"start_time\", how=\"left\")"
   ]
  },
  {
   "cell_type": "code",
   "execution_count": 10,
   "id": "be347877-91d9-4855-84d2-00828b5ccf45",
   "metadata": {},
   "outputs": [],
   "source": [
    "final = schedule.merge(period_interval, on = ['period', 'weekday'], how='left')[['timeslot', 'class']]"
   ]
  },
  {
   "cell_type": "code",
   "execution_count": 11,
   "id": "0a6d84b2-cec7-4c42-8449-f26824dc3c92",
   "metadata": {},
   "outputs": [],
   "source": [
    "final.to_csv(\"timetable1.csv\", index=False)"
   ]
  },
  {
   "cell_type": "code",
   "execution_count": 12,
   "id": "0aadf01d-d81e-4d1a-ae6a-d3855ac0f32f",
   "metadata": {},
   "outputs": [],
   "source": [
    "# python opt_test.py timetable1.csv"
   ]
  }
 ],
 "metadata": {
  "kernelspec": {
   "display_name": "Python 3 (ipykernel)",
   "language": "python",
   "name": "python3"
  },
  "language_info": {
   "codemirror_mode": {
    "name": "ipython",
    "version": 3
   },
   "file_extension": ".py",
   "mimetype": "text/x-python",
   "name": "python",
   "nbconvert_exporter": "python",
   "pygments_lexer": "ipython3",
   "version": "3.11.13"
  }
 },
 "nbformat": 4,
 "nbformat_minor": 5
}
