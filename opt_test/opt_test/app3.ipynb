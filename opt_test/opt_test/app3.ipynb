{
 "cells": [
  {
   "cell_type": "code",
   "execution_count": 1,
   "id": "e45fb893-ced8-42e3-8950-3c52c3bfd9ef",
   "metadata": {},
   "outputs": [],
   "source": [
    "from ortools.sat.python import cp_model\n",
    "import pandas as pd"
   ]
  },
  {
   "cell_type": "code",
   "execution_count": 2,
   "id": "9f11617b-c3c9-47f9-ab34-7047568abf54",
   "metadata": {},
   "outputs": [],
   "source": [
    "# Read CSV\n",
    "class_list = pd.read_csv(\"class_list.csv\")\n",
    "timeslots_days = pd.read_csv(\"timeslots.csv\")\n",
    "\n",
    "lessons_required = pd.read_csv(\"lessons_required.csv\")\n",
    "weekday = pd.read_csv(\"weekdays.csv\")\n",
    "teacher_classes = pd.read_csv(\"teacher_classes.csv\")\n",
    "student_classes = pd.read_csv(\"student_classes.csv\")\n",
    "\n",
    "teacher_list = pd.read_csv(\"teacher_list.csv\")"
   ]
  },
  {
   "cell_type": "code",
   "execution_count": 3,
   "id": "f527382c-677b-4260-ae42-8fc690adf4b4",
   "metadata": {},
   "outputs": [],
   "source": [
    "student_classes = student_classes[student_classes['class']!='isizulu-12']\n",
    "teacher_classes = teacher_classes[teacher_classes['class']!='isizulu-12']"
   ]
  },
  {
   "cell_type": "code",
   "execution_count": 4,
   "id": "0e4cdd4f-42c0-47b5-bc0f-2d367ba3dfca",
   "metadata": {},
   "outputs": [],
   "source": [
    "classes = list(class_list['class'])\n",
    "timeslots = list(timeslots_days['timeslot'])\n",
    "days = list(weekday['weekday'])\n",
    "periods = range(9)\n",
    "teacher = list(teacher_list['teacher'])\n",
    "\n",
    "num_lessons = dict(zip(lessons_required[\"class\"], lessons_required[\"num_lessons\"]))\n",
    "class_teacher = dict(zip(teacher_classes[\"class\"], teacher_classes[\"teacher\"]))\n",
    "class_students = dict(zip(student_classes[\"class\"], student_classes[\"student\"]))"
   ]
  },
  {
   "cell_type": "code",
   "execution_count": 5,
   "id": "08eb844f-44fe-476a-b701-42994349392d",
   "metadata": {},
   "outputs": [],
   "source": [
    "# # Build student → classes mapping\n",
    "# student_classes_map = {}\n",
    "# for _, row in student_classes.iterrows():\n",
    "#     student = row['student']\n",
    "#     cls = row['class']\n",
    "#     if student not in student_classes_map:\n",
    "#         student_classes_map[student] = []\n",
    "#     student_classes_map[student].append(cls)"
   ]
  },
  {
   "cell_type": "code",
   "execution_count": 6,
   "id": "44ad8dd2-23d4-4043-a228-6f7c81f1890c",
   "metadata": {},
   "outputs": [],
   "source": [
    "# # Build student → classes mapping\n",
    "# teacher_classes_map = {}\n",
    "# for _, row in teacher_classes.iterrows():\n",
    "#     teacher = row['teacher']\n",
    "#     cls = row['class']\n",
    "#     if teacher not in teacher_classes_map:\n",
    "#         teacher_classes_map[teacher] = []\n",
    "#     teacher_classes_map[teacher].append(cls)"
   ]
  },
  {
   "cell_type": "code",
   "execution_count": 7,
   "id": "9c2ed3c6-5c4d-4326-bd09-ce70190ae4b5",
   "metadata": {},
   "outputs": [],
   "source": [
    "model = cp_model.CpModel()"
   ]
  },
  {
   "cell_type": "markdown",
   "id": "98cad554-6e08-453f-af00-6d1137b68db4",
   "metadata": {},
   "source": [
    "## Variables\n",
    "\n",
    "We’ll create one **binary decision variable** per `(class, day, period)`"
   ]
  },
  {
   "cell_type": "code",
   "execution_count": 8,
   "id": "4ccd5200-b6d2-49b0-9130-26076797a258",
   "metadata": {},
   "outputs": [],
   "source": [
    "# Variables\n",
    "x = {}\n",
    "for c in classes:\n",
    "    for d in days:\n",
    "        for p in periods:\n",
    "            x[(c,d,p)] = model.NewBoolVar(f'x_{c}_{d}_{p}')"
   ]
  },
  {
   "cell_type": "markdown",
   "id": "dd150be5-5296-4a5c-95aa-8c4a2a31f715",
   "metadata": {},
   "source": [
    "## Constraints"
   ]
  },
  {
   "cell_type": "markdown",
   "id": "7e524af0-023e-4c22-8c26-f16456efc02b",
   "metadata": {},
   "source": [
    "### Required lessons per class\n",
    "\n",
    "Each class must be scheduled the exact number of times specified in `num_lessons`."
   ]
  },
  {
   "cell_type": "code",
   "execution_count": 9,
   "id": "19f2540d-9422-4426-9493-b00c90c5a008",
   "metadata": {},
   "outputs": [],
   "source": [
    "# Constraint: each class gets required lessons\n",
    "for c in classes:\n",
    "    model.Add(sum(x[(c,d,p)] for d in days for p in periods) == num_lessons[c])"
   ]
  },
  {
   "cell_type": "markdown",
   "id": "fad95708-d1db-430f-beba-cbd704ccb002",
   "metadata": {},
   "source": [
    "### Teachers cannot be double-booked\n",
    "\n",
    "For each `(day, period)`, a teacher can only teach one of their classes."
   ]
  },
  {
   "cell_type": "code",
   "execution_count": 10,
   "id": "9376b78c-35e3-4235-b9ef-6063845f2298",
   "metadata": {},
   "outputs": [],
   "source": [
    "for d in days:\n",
    "    for p in periods:\n",
    "        for t in set(class_teacher.values()):  # each teacher\n",
    "            teaching_classes = [cls for cls, teacher in class_teacher.items() if teacher == t]\n",
    "            if teaching_classes:\n",
    "                model.Add(sum(x[(c,d,p)] for c in teaching_classes if c in classes) <= 1)"
   ]
  },
  {
   "cell_type": "code",
   "execution_count": 11,
   "id": "90134c9e-7ea6-4363-8dce-a44743d8aa6a",
   "metadata": {},
   "outputs": [],
   "source": [
    "# for d in days:\n",
    "#     for p in periods:\n",
    "#         for s, enrolled_classes in teacher_classes_map.items():\n",
    "#             model.Add(sum(x[(c,d,p)] for c in enrolled_classes) <= 1)"
   ]
  },
  {
   "cell_type": "markdown",
   "id": "a996a1db-9f33-451d-9bcb-4e1fe5853f6b",
   "metadata": {},
   "source": [
    "### Students cannot be double-booked\n",
    "\n",
    "Same idea: For each `(day, period)`, a student can only attend one class."
   ]
  },
  {
   "cell_type": "code",
   "execution_count": 12,
   "id": "42f19a3a-42d2-4bcc-bdf5-ea0094ceee65",
   "metadata": {},
   "outputs": [],
   "source": [
    "for d in days:\n",
    "    for p in periods:\n",
    "        for s in set(class_students.values()):\n",
    "            enrolled_classes = [c for c, students in class_students.items() if s in students]\n",
    "            if enrolled_classes:\n",
    "                model.Add(sum(x[(c,d,p)] for c in enrolled_classes if c in classes) <= 1)"
   ]
  },
  {
   "cell_type": "code",
   "execution_count": 13,
   "id": "41f8e250-239f-4e13-b650-85cf1285c3cb",
   "metadata": {},
   "outputs": [],
   "source": [
    "# for d in days:\n",
    "#     for p in periods:\n",
    "#         for s, enrolled_classes in student_classes_map.items():\n",
    "#             model.Add(sum(x[(c,d,p)] for c in enrolled_classes) <= 1)"
   ]
  },
  {
   "cell_type": "markdown",
   "id": "05f63706-2157-4537-891d-02e680339e1b",
   "metadata": {},
   "source": [
    "### Spread lessons across days (soft preference)\n",
    "\n",
    "For now, we’ll keep it simple, but later we can add an **objective** to penalize imbalance."
   ]
  },
  {
   "cell_type": "code",
   "execution_count": 14,
   "id": "bdcdc544-6ddc-40b3-a6cc-cc424f825fab",
   "metadata": {},
   "outputs": [],
   "source": [
    "for c in classes:\n",
    "    lessons = num_lessons[c]\n",
    "    for d in days:\n",
    "        if lessons <= 5:\n",
    "            # Spread: at most 1 per day\n",
    "            model.Add(sum(x[(c, d, p)] for p in periods) <= 1)\n",
    "        else:\n",
    "            # Allow 2 per day if more than 5 lessons in total\n",
    "            model.Add(sum(x[(c, d, p)] for p in periods) <= 2)"
   ]
  },
  {
   "cell_type": "code",
   "execution_count": 15,
   "id": "01c41859-3707-459a-a1cc-d7124c5380d6",
   "metadata": {},
   "outputs": [],
   "source": [
    "for c in classes:\n",
    "    for d in days:\n",
    "        # List of variables for this class on this day\n",
    "        vars_day = [x[(c, d, p)] for p in periods]\n",
    "\n",
    "        # If 2 lessons in this day, they must be consecutive\n",
    "        # Create pairwise \"consecutive slot\" indicators\n",
    "        consecutive_pairs = []\n",
    "        for p in range(len(periods) - 1):\n",
    "            pair = model.NewBoolVar(f\"{c}_{d}_consec_{p}\")\n",
    "            model.Add(vars_day[p] + vars_day[p+1] == 2).OnlyEnforceIf(pair)\n",
    "            model.Add(vars_day[p] + vars_day[p+1] != 2).OnlyEnforceIf(pair.Not())\n",
    "            consecutive_pairs.append(pair)\n",
    "\n",
    "        # Now enforce: if there are 2 lessons, at least one consecutive pair is active\n",
    "        is_two = model.NewBoolVar(f\"{c}_{d}_is_two\")\n",
    "        model.Add(sum(vars_day) == 2).OnlyEnforceIf(is_two)\n",
    "        model.Add(sum(vars_day) != 2).OnlyEnforceIf(is_two.Not())\n",
    "\n",
    "        if consecutive_pairs:\n",
    "            model.Add(sum(consecutive_pairs) >= 1).OnlyEnforceIf(is_two)"
   ]
  },
  {
   "cell_type": "markdown",
   "id": "b71d110a-f2b8-4282-b9b4-1eaf02817f14",
   "metadata": {},
   "source": [
    "## Step 3. Solver & Output"
   ]
  },
  {
   "cell_type": "code",
   "execution_count": 16,
   "id": "43d04964-0a29-4f54-b910-f2b6a4af31d1",
   "metadata": {},
   "outputs": [],
   "source": [
    "solver = cp_model.CpSolver()\n",
    "solver.parameters.max_time_in_seconds = 20\n",
    "status = solver.Solve(model)"
   ]
  },
  {
   "cell_type": "code",
   "execution_count": 17,
   "id": "8fb1bf06-4921-4916-aff7-971e372d9ab8",
   "metadata": {},
   "outputs": [
    {
     "name": "stdout",
     "output_type": "stream",
     "text": [
      "Solution written to timetable_solution.csv\n"
     ]
    }
   ],
   "source": [
    "if status in [cp_model.OPTIMAL, cp_model.FEASIBLE]:\n",
    "    rows = []\n",
    "    for (c, d, p), var in x.items():\n",
    "        if solver.Value(var) == 1:\n",
    "            rows.append([d, p, c])\n",
    "    output = pd.DataFrame(rows, columns=['weekday', 'period', 'class'])\n",
    "    print(\"Solution written to timetable_solution.csv\")\n",
    "else:\n",
    "    print(\"No feasible solution found\")"
   ]
  },
  {
   "cell_type": "code",
   "execution_count": 18,
   "id": "2c630498-ab23-45f0-85ee-42e9c375100a",
   "metadata": {},
   "outputs": [],
   "source": [
    "period_interval = timeslots_days.copy()\n",
    "\n",
    "# Split on ' - '\n",
    "split_cols = period_interval['timeslot'].str.rsplit(' - ', n=1, expand=True)\n",
    "\n",
    "# Clean start_time (remove weekday, replace '_' with ':')\n",
    "period_interval['start_time'] = (\n",
    "    split_cols[0]\n",
    "    .str.replace(r'^[A-Z]+\\s*', '', regex=True)  # drop weekday like 'FRI'\n",
    "    .str.replace('_', ':', regex=False)          # turn 07_45 -> 07:45\n",
    "    .str.strip()\n",
    ")\n",
    "\n",
    "# Get unique start times in order of appearance\n",
    "unique_times = period_interval['start_time'].drop_duplicates().tolist()\n",
    "\n",
    "period_start_times = pd.DataFrame({\n",
    "    \"period\": range(len(unique_times)),\n",
    "    \"start_time\": unique_times\n",
    "})\n",
    "\n",
    "period_interval = period_interval.merge(period_start_times, on=\"start_time\", how=\"left\")"
   ]
  },
  {
   "cell_type": "code",
   "execution_count": 19,
   "id": "184bd976-9aad-465e-9da9-be9bcdad5e7f",
   "metadata": {},
   "outputs": [],
   "source": [
    "final = output.merge(period_interval, on = ['period', 'weekday'], how  ='left')[['timeslot', 'class']]"
   ]
  },
  {
   "cell_type": "code",
   "execution_count": 20,
   "id": "4089ad07-f121-448d-abb6-88ff0f41f865",
   "metadata": {},
   "outputs": [],
   "source": [
    "final.to_csv(\"timetable4.csv\", index=False)"
   ]
  },
  {
   "cell_type": "code",
   "execution_count": 21,
   "id": "eb3333e3-0eb8-422a-8d2e-324150cc6205",
   "metadata": {},
   "outputs": [],
   "source": [
    "# python opt_test.py timetable3.csv"
   ]
  },
  {
   "cell_type": "code",
   "execution_count": 22,
   "id": "76a43ae0-c61d-460a-9f1f-db7d2391412a",
   "metadata": {},
   "outputs": [],
   "source": [
    "# Check if there is any missing catogorise, consistency of categories in every dataset (techers, students, subjects/class, periods, weekdays)\n",
    "\n",
    "# check for data quality (check duplicates, nulls, etc)\n",
    "# check for inconsistencies\n",
    "\n",
    "\n",
    "# # Read CSV\n",
    "# class_list = pd.read_csv(\"class_list.csv\")\n",
    "# lessons_required = pd.read_csv(\"lessons_required.csv\")\n",
    "# student_classes = pd.read_csv(\"student_classes.csv\")\n",
    "# student_list = pd.read_csv(\"student_list.csv\")\n",
    "# teacher_classes = pd.read_csv(\"teacher_classes.csv\")\n",
    "# teacher_list = pd.read_csv(\"teacher_list.csv\")\n",
    "# timeslots_days = pd.read_csv(\"timeslots.csv\")\n",
    "# weekday = pd.read_csv(\"weekdays.csv\")\n",
    "\n",
    "\n",
    "\n",
    "\n",
    "# class_list.head()\n",
    "\n",
    "# class\n",
    "# 0\taccn-10\n",
    "# 1\taccn-11\n",
    "# 2\taccn-12\n",
    "# 3\tbstd-10\n",
    "# 4\tbstd-11\n",
    "\n",
    "\n",
    "# lessons_required.head()\n",
    "\n",
    "# \tclass\tnum_lessons\n",
    "# 0\tenglish-10\t7\n",
    "# 1\tafrikaans-10\t5\n",
    "# 2\tisizulu-10\t7\n",
    "# 3\tlo-10\t2\n",
    "# 4\tmath-10\t6\n",
    "\n",
    "\n",
    "# student_classes.head()\n",
    "\n",
    "# student\tclass\n",
    "# 0\tEmma Ortega\taccn-10\n",
    "# 1\tAlex Lopez\taccn-10\n",
    "# 2\tMawhiba el-Moghaddam\taccn-10\n",
    "# 3\tTia Shaye Taylor\taccn-10\n",
    "# 4\tBrittany Zimmerman\taccn-10\n",
    "\n",
    "# student_list.head()\n",
    "\n",
    "\n",
    "# student\n",
    "# 0\tEmma Ortega\n",
    "# 1\tAlex Lopez\n",
    "# 2\tMawhiba el-Moghaddam\n",
    "# 3\tTia Shaye Taylor\n",
    "# 4\tBrittany Zimmerman\n",
    "\n",
    "\n",
    "\n",
    "# teacher_classes.head()\n",
    "\n",
    "# teacher\tclass\n",
    "# 0\tZuhra al-Bina\tgeog-12\n",
    "# 1\tKevin Joh\tgrds-10\n",
    "# 2\tAubry Rucker\tlo-10\n",
    "# 3\tEna Singleton\tcstd-10\n",
    "# 4\tPadideh Park\tinft-10\n",
    "\n",
    "\n",
    "\n",
    "# teacher_list\n",
    "\n",
    "# teacher\n",
    "# 0\tZuhra al-Bina\n",
    "# 1\tKevin Joh\n",
    "# 2\tAubry Rucker\n",
    "# 3\tEna Singleton\n",
    "# 4\tPadideh Park\n",
    "\n",
    "\n",
    "# timeslots_days.head()\n",
    "\n",
    "# timeslot\tweekday\n",
    "# 0\tFRI 07_45 - 08_30\tFRI\n",
    "# 1\tFRI 08_30 - 09_15\tFRI\n",
    "# 2\tFRI 09_15 - 10_00\tFRI\n",
    "# 3\tFRI 10_00 - 10_45\tFRI\n",
    "# 4\tFRI 10_45 - 11_25\tFRI\n",
    "\n",
    "\n",
    "\n",
    "# weekday.head()\n",
    "\n",
    "# \tweekday\n",
    "# 0\tMON\n",
    "# 1\tTUE\n",
    "# 2\tWED\n",
    "# 3\tTHU\n",
    "# 4\tFRI\n"
   ]
  },
  {
   "cell_type": "code",
   "execution_count": null,
   "id": "05cd229b-c447-44c9-acba-33845ca70f83",
   "metadata": {},
   "outputs": [],
   "source": []
  }
 ],
 "metadata": {
  "kernelspec": {
   "display_name": "Python 3 (ipykernel)",
   "language": "python",
   "name": "python3"
  },
  "language_info": {
   "codemirror_mode": {
    "name": "ipython",
    "version": 3
   },
   "file_extension": ".py",
   "mimetype": "text/x-python",
   "name": "python",
   "nbconvert_exporter": "python",
   "pygments_lexer": "ipython3",
   "version": "3.11.13"
  }
 },
 "nbformat": 4,
 "nbformat_minor": 5
}
