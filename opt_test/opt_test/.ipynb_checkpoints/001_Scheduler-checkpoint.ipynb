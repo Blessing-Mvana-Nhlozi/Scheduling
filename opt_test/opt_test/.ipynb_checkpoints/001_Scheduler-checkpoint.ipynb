{
 "cells": [
  {
   "cell_type": "markdown",
   "id": "fa35d3e2-ebd5-4cb2-86ff-4f5ca6f1adef",
   "metadata": {},
   "source": [
    "# School Timetable Optimization Notebook\n",
    "\n",
    "**Author:** Blessing Mvana Nhlozi  \n",
    "**Objective:** Optimize a school timetable using OR-Tools CP-SAT solver for efficient scheduling of classes, teachers, and students."
   ]
  },
  {
   "cell_type": "markdown",
   "id": "219a8c51-d146-4909-a518-7a747a9b9516",
   "metadata": {},
   "source": [
    "## Methodology\n",
    "\n",
    "\n",
    "**Variable and Model Definition**\n",
    "   - Define decision variables `x[(class, day, period)]` to indicate whether a class is scheduled at a particular time.\n",
    "   - Build CP-SAT model using constraints\n",
    "\n",
    "**Constraint Programming**\n",
    "   - **OR-Tools CP-SAT** solver was used to handle complex constraints.\n",
    "   - Soft constraints were added to minimize gaps or distribute lessons evenly.\n",
    "\n",
    "**Model Solving**\n",
    "   - Solve the model using `CpSolver()`.\n",
    "   - Check solution feasibility (`OPTIMAL` or `FEASIBLE`).\n",
    "\n",
    "**Output Formatting**\n",
    "   - Convert solution variables to a readable timetable (`DataFrame`).\n",
    "   - Export timetable as `timetable.csv` with two columns: timeslot and class."
   ]
  },
  {
   "cell_type": "markdown",
   "id": "22b46b6a-3fd7-4072-baff-7dc137ad41ab",
   "metadata": {},
   "source": [
    "### Imports & Logging setup"
   ]
  },
  {
   "cell_type": "code",
   "execution_count": 1,
   "id": "db841485-8b87-49e4-a32b-521f00b3ebae",
   "metadata": {},
   "outputs": [],
   "source": [
    "from __future__ import annotations\n",
    "import math, logging, time, tracemalloc\n",
    "from typing import Dict, List, Tuple\n",
    "\n",
    "import pandas as pd\n",
    "from ortools.sat.python import cp_model"
   ]
  },
  {
   "cell_type": "code",
   "execution_count": 2,
   "id": "8a5f9242-2493-4915-a19e-780ff4bccd6a",
   "metadata": {},
   "outputs": [],
   "source": [
    "# Logging setup\n",
    "logging.basicConfig(\n",
    "    format=\"%(asctime)s | %(levelname)s | %(message)s\",\n",
    "    level=logging.INFO\n",
    ")"
   ]
  },
  {
   "cell_type": "markdown",
   "id": "0ab3627c-59cf-4728-9e07-36071b8fb998",
   "metadata": {},
   "source": [
    "### Load Functions\n",
    "\n",
    "\n",
    "```python \n",
    "%run 000_Functions.ipynb\n",
    "```\n",
    "will load functions stored in  `000_Functions.ipynb` notebook located in the same folder. \\\n",
    "The functions for data loading, model building, solving, and output formatting."
   ]
  },
  {
   "cell_type": "code",
   "execution_count": 3,
   "id": "7ae0692e-aaab-4328-bd0b-dc6dbbc23fa6",
   "metadata": {},
   "outputs": [],
   "source": [
    "%run 000_Functions.ipynb"
   ]
  },
  {
   "cell_type": "markdown",
   "id": "3f5fc21f-3ba6-404f-9ca9-28b0b79f5d06",
   "metadata": {},
   "source": [
    "### Main Execution Function\n",
    "\n",
    "- Load all necessary data.\n",
    "- Build the constraint model.\n",
    "- Solve the timetable problem.\n",
    "- Format and export the results."
   ]
  },
  {
   "cell_type": "code",
   "execution_count": 4,
   "id": "bc035ec7-eb0d-41f5-a6a9-bdb8f204a1be",
   "metadata": {},
   "outputs": [],
   "source": [
    "def main():\n",
    "    with Profiler(\"Data Loading\"):\n",
    "        class_list, timeslots_days, lessons_required, weekday, teacher_classes, student_classes, teacher_list = load_data()\n",
    "\n",
    "    classes = class_list[\"class\"].tolist()\n",
    "    days = weekday[\"weekday\"].tolist()\n",
    "    periods = range(9)\n",
    "\n",
    "    num_lessons = dict(zip(lessons_required[\"class\"], lessons_required[\"num_lessons\"]))\n",
    "    class_teacher = dict(zip(teacher_classes[\"class\"], teacher_classes[\"teacher\"]))\n",
    "    class_students = student_classes.groupby(\"class\")[\"student\"].apply(list).to_dict()\n",
    "\n",
    "    with Profiler(\"Model Building\"):\n",
    "        model, x = build_model(classes, days, periods, num_lessons, class_teacher, class_students)\n",
    "\n",
    "    with Profiler(\"Solving Model\"):\n",
    "        solution = solve_model(model, x)\n",
    "\n",
    "    with Profiler(\"Output Formatting\"):\n",
    "        final = format_output(solution, timeslots_days)\n",
    "        final.to_csv(\"timetable.csv\", index=False)\n",
    "\n",
    "    logging.info(\"Timetable successfully written to timetable.csv\")"
   ]
  },
  {
   "cell_type": "markdown",
   "id": "d6c908b1-defe-46c6-bb06-db933133245e",
   "metadata": {},
   "source": [
    "### Execute the Main Function\n",
    "\n",
    "- Run the main function when this script is executed.\n",
    "- This ensures that the notebook works both interactively and as a standalone script."
   ]
  },
  {
   "cell_type": "code",
   "execution_count": 5,
   "id": "12bdd557-1501-43b7-b2b3-767553141bcb",
   "metadata": {},
   "outputs": [
    {
     "name": "stderr",
     "output_type": "stream",
     "text": [
      "2025-10-06 16:00:27,196 | INFO | Starting: Data Loading\n",
      "2025-10-06 16:00:27,240 | INFO | Finished: Data Loading | Time: 0.04s | Memory: 143.43 KB | Peak: 406.66 KB\n",
      "2025-10-06 16:00:27,245 | INFO | Starting: Model Building\n",
      "2025-10-06 16:00:34,270 | INFO | Finished: Model Building | Time: 7.02s | Memory: 11574.91 KB | Peak: 11944.07 KB\n",
      "2025-10-06 16:00:34,272 | INFO | Starting: Solving Model\n",
      "2025-10-06 16:00:45,389 | INFO | Finished: Solving Model | Time: 11.12s | Memory: 176.50 KB | Peak: 2151.84 KB\n",
      "2025-10-06 16:00:45,391 | INFO | Starting: Output Formatting\n",
      "2025-10-06 16:00:45,445 | INFO | Finished: Output Formatting | Time: 0.05s | Memory: 234.13 KB | Peak: 420.99 KB\n",
      "2025-10-06 16:00:45,447 | INFO | Timetable successfully written to timetable.csv\n"
     ]
    }
   ],
   "source": [
    "if __name__ == \"__main__\":\n",
    "    main()"
   ]
  },
  {
   "cell_type": "markdown",
   "id": "4202bd66-4c7a-4817-a5fe-9393e2457e1f",
   "metadata": {},
   "source": [
    "## Notes\n",
    "\n",
    "- The notebook is modular, separating functions from execution for clarity.\n",
    "- CP-SAT solver strictly enforces constraints.\n",
    "- Logging provides progress updates."
   ]
  }
 ],
 "metadata": {
  "kernelspec": {
   "display_name": "Python 3 (ipykernel)",
   "language": "python",
   "name": "python3"
  },
  "language_info": {
   "codemirror_mode": {
    "name": "ipython",
    "version": 3
   },
   "file_extension": ".py",
   "mimetype": "text/x-python",
   "name": "python",
   "nbconvert_exporter": "python",
   "pygments_lexer": "ipython3",
   "version": "3.11.13"
  }
 },
 "nbformat": 4,
 "nbformat_minor": 5
}
