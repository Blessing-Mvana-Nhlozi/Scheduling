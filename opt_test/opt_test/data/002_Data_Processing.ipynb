{
 "cells": [
  {
   "cell_type": "code",
   "execution_count": 1,
   "id": "94e2bb0f-eb17-4109-9830-08b5fc1808df",
   "metadata": {},
   "outputs": [],
   "source": [
    "import pandas as pd\n",
    "from pathlib import Path"
   ]
  },
  {
   "cell_type": "code",
   "execution_count": 2,
   "id": "9b3799a3-e200-44c3-9bdb-f04249c84f69",
   "metadata": {},
   "outputs": [],
   "source": [
    "class_list = pd.read_csv(\"data/raw/class_list.csv\")\n",
    "timeslots = pd.read_csv(\"data/raw/timeslots.csv\")\n",
    "student_classes = pd.read_csv(\"data/raw/student_classes.csv\")\n",
    "teacher_classes = pd.read_csv(\"data/raw/teacher_classes.csv\")\n",
    "lessons_required = pd.read_csv(\"data/raw/lessons_required.csv\")\n",
    "\n",
    "teachers = pd.read_csv(\"data/bronze/bronze_teachers.csv\")\n",
    "students = pd.read_csv(\"data/bronze/bronze_students.csv\")"
   ]
  },
  {
   "cell_type": "code",
   "execution_count": 3,
   "id": "8b78cf49-0f3f-42e4-90dc-3aa8593de8b9",
   "metadata": {},
   "outputs": [],
   "source": [
    "# Create subject_grade DataFrame from class_list\n",
    "# Split the 'class' column into subject and grade\n",
    "subject_grade = class_list.copy()\n",
    "\n",
    "# Safely split even if some rows don't contain '-'\n",
    "split_cols = subject_grade['class'].str.rsplit('-', n=1, expand=True)\n",
    "\n",
    "# Assign column names\n",
    "subject_grade['subject'] = split_cols[0].str.strip()\n",
    "subject_grade['grade'] = split_cols[1].str.strip()\n",
    "\n",
    "# Convert grade to integer\n",
    "subject_grade['grade'] = pd.to_numeric(subject_grade['grade'], errors='coerce')\n",
    "\n",
    "# Create unique subjects/grade DataFrame\n",
    "subjects = subject_grade[['subject']].drop_duplicates().reset_index(drop=True)\n",
    "grades = subject_grade[['grade']].drop_duplicates().reset_index(drop=True)"
   ]
  },
  {
   "cell_type": "code",
   "execution_count": 4,
   "id": "06ea6a9e-df50-4a78-ad2a-9b4463976c0c",
   "metadata": {},
   "outputs": [],
   "source": [
    "# Create period_interval DataFrame from timeslots\n",
    "# Split the 'timeslot' column into start_time and end_time\n",
    "period_interval = timeslots.copy()\n",
    "\n",
    "# Split on ' - '\n",
    "split_cols = period_interval['timeslot'].str.split(' - ', n=1, expand=True)\n",
    "\n",
    "# Clean start_time (remove weekday, replace '_' with ':')\n",
    "period_interval['start_time'] = (\n",
    "    split_cols[0]\n",
    "    .str.replace(r'^[A-Z]+\\s*', '', regex=True)  # drop weekday like 'FRI'\n",
    "    .str.replace('_', ':', regex=False)          # turn 07_45 -> 07:45\n",
    "    .str.strip()\n",
    ")\n",
    "\n",
    "# Clean end_time (just replace '_' with ':')\n",
    "period_interval['end_time'] = (\n",
    "    split_cols[1]\n",
    "    .str.replace('_', ':', regex=False)\n",
    "    .str.strip()\n",
    ")\n",
    "\n",
    "# Convert both to datetime (time-only)\n",
    "period_interval['start_time'] = pd.to_datetime(period_interval['start_time'], format='%H:%M', errors='coerce').dt.time\n",
    "period_interval['end_time']   = pd.to_datetime(period_interval['end_time'], format='%H:%M', errors='coerce').dt.time\n",
    "\n",
    "# Keep only start and end\n",
    "period_interval = period_interval[['start_time', 'end_time']].drop_duplicates()"
   ]
  },
  {
   "cell_type": "code",
   "execution_count": 5,
   "id": "41a8eb65-d12a-465f-bd35-647cd34be811",
   "metadata": {},
   "outputs": [],
   "source": [
    "# Create subject_grade DataFrame from class_list\n",
    "# Split the 'class' column into subject and grade\n",
    "learners = student_classes.copy()\n",
    "\n",
    "# Safely split even if some rows don't contain '-'\n",
    "split_cols = learners['class'].str.rsplit('-', n=1, expand=True)\n",
    "\n",
    "# Assign column names\n",
    "learners['subject'] = split_cols[0].str.strip()\n",
    "learners['grade'] = split_cols[1].str.strip()\n",
    "\n",
    "# Convert grade to integer\n",
    "learners['grade'] = pd.to_numeric(learners['grade'], errors='coerce')\n",
    "# Join learners with students on 'student'\n",
    "merged = pd.merge(students, learners, on=\"student\", how=\"inner\")\n",
    "\n",
    "student_grade = merged[['student_id', 'grade']].drop_duplicates().reset_index(drop=True)\n",
    "student_subject = merged[['student_id', 'subject']].drop_duplicates().reset_index(drop=True)"
   ]
  },
  {
   "cell_type": "code",
   "execution_count": 6,
   "id": "621638bb-9d08-43ec-acb2-b0438b30248e",
   "metadata": {},
   "outputs": [],
   "source": [
    "# Create subject_grade DataFrame from class_list\n",
    "# Split the 'class' column into subject and grade\n",
    "teacher = teacher_classes.copy()\n",
    "\n",
    "# Safely split even if some rows don't contain '-'\n",
    "split_cols = teacher['class'].str.rsplit('-', n=1, expand=True)\n",
    "\n",
    "# Assign column names\n",
    "teacher['subject'] = split_cols[0].str.strip()\n",
    "teacher['grade'] = split_cols[1].str.strip()\n",
    "\n",
    "# Convert grade to integer\n",
    "teacher['grade'] = pd.to_numeric(teacher['grade'], errors='coerce')\n",
    "# Join teacher with teachers on 'teacher'\n",
    "merged = pd.merge(teachers, teacher, on=\"teacher\", how=\"inner\")\n",
    "\n",
    "teacher_grade = merged[['teacher_id', 'grade']].drop_duplicates().reset_index(drop=True)\n",
    "teacher_subject = merged[['teacher_id', 'subject']].drop_duplicates().reset_index(drop=True)"
   ]
  },
  {
   "cell_type": "code",
   "execution_count": 7,
   "id": "352100c5-92b3-46a4-a3de-991cc559d047",
   "metadata": {},
   "outputs": [],
   "source": [
    "# Safely split even if some rows don't contain '-'\n",
    "split_cols = lessons_required['class'].str.rsplit('-', n=1, expand=True)\n",
    "\n",
    "# Assign column names\n",
    "lessons_required['subject'] = split_cols[0].str.strip()\n",
    "lessons_required['grade'] = split_cols[1].str.strip()\n",
    "\n",
    "# Convert grade to integer\n",
    "lessons_required['grade'] = pd.to_numeric(lessons_required['grade'], errors='coerce')\n",
    "\n",
    "lessons_required = lessons_required[['subject', 'grade', 'num_lessons']].drop_duplicates().reset_index(drop=True)"
   ]
  },
  {
   "cell_type": "code",
   "execution_count": 8,
   "id": "d2906542-7e20-444f-8daf-19e676d2b74e",
   "metadata": {},
   "outputs": [
    {
     "name": "stdout",
     "output_type": "stream",
     "text": [
      "bronze_subjects.csv saved.\n",
      "bronze_grades.csv saved.\n",
      "bronze_period_interval.csv saved.\n",
      "bronze_student_grade.csv saved.\n",
      "bronze_student_subject.csv saved.\n",
      "bronze_teacher_grade.csv saved.\n",
      "bronze_teacher_subject.csv saved.\n",
      "bronze_lessons_required.csv saved.\n",
      "All CSVs saved successfully.\n"
     ]
    }
   ],
   "source": [
    "# Output folder\n",
    "output_path = Path(\"data/bronze\")\n",
    "output_path.mkdir(parents=True, exist_ok=True)  # create folder if it doesn't exist\n",
    "\n",
    "# Dictionary of tables\n",
    "tables = {\n",
    "    'bronze_subjects': subjects,\n",
    "    'bronze_grades': grades,\n",
    "    'bronze_period_interval': period_interval,\n",
    "    'bronze_student_grade': student_grade,\n",
    "    'bronze_student_subject': student_subject,\n",
    "    'bronze_teacher_grade': teacher_grade,\n",
    "    'bronze_teacher_subject': teacher_subject,\n",
    "    'bronze_lessons_required': lessons_required\n",
    "}\n",
    "\n",
    "# Save each DataFrame to CSV\n",
    "for table_name, table in tables.items():\n",
    "    table.to_csv(output_path / f\"{table_name}.csv\", index=False)\n",
    "    print(f\"{table_name}.csv saved.\")\n",
    "\n",
    "print(\"All CSVs saved successfully.\")"
   ]
  }
 ],
 "metadata": {
  "kernelspec": {
   "display_name": "Python 3 (ipykernel)",
   "language": "python",
   "name": "python3"
  },
  "language_info": {
   "codemirror_mode": {
    "name": "ipython",
    "version": 3
   },
   "file_extension": ".py",
   "mimetype": "text/x-python",
   "name": "python",
   "nbconvert_exporter": "python",
   "pygments_lexer": "ipython3",
   "version": "3.11.13"
  }
 },
 "nbformat": 4,
 "nbformat_minor": 5
}
