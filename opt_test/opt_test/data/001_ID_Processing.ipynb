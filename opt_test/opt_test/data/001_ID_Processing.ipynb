{
 "cells": [
  {
   "cell_type": "code",
   "execution_count": 1,
   "id": "3eca65dc-6545-45e5-b8ef-b28dad013b26",
   "metadata": {},
   "outputs": [],
   "source": [
    "import pandas as pd\n",
    "from pathlib import Path"
   ]
  },
  {
   "cell_type": "code",
   "execution_count": 2,
   "id": "a55d9f05-1af7-444d-8268-30d832fc6170",
   "metadata": {},
   "outputs": [],
   "source": [
    "teachers = pd.read_csv(\"data/raw/teacher_list.csv\")\n",
    "students = pd.read_csv(\"data/raw/student_list.csv\")"
   ]
  },
  {
   "cell_type": "code",
   "execution_count": 3,
   "id": "83428190-c56e-4386-bbbf-efd38bc3125f",
   "metadata": {},
   "outputs": [],
   "source": [
    "teachers['teacher_id'] = [int(\"1\" + str(i).zfill(3)) for i in range(1, len(teachers) + 1)]\n",
    "teachers = teachers[['teacher_id', 'teacher']]\n",
    "students['student_id'] = [int(\"2\" + str(i).zfill(3)) for i in range(1, len(students) + 1)]\n",
    "students = students[['student_id', 'student']]"
   ]
  },
  {
   "cell_type": "code",
   "execution_count": 4,
   "id": "c2f449b4-acbf-4a42-871c-b2fd83f219dd",
   "metadata": {},
   "outputs": [
    {
     "name": "stdout",
     "output_type": "stream",
     "text": [
      "bronze_teachers.csv saved.\n",
      "bronze_students.csv saved.\n",
      "All CSVs saved successfully.\n"
     ]
    }
   ],
   "source": [
    "# Output folder\n",
    "output_path = Path(\"data/bronze\")\n",
    "output_path.mkdir(parents=True, exist_ok=True)  # create folder if it doesn't exist\n",
    "\n",
    "# Dictionary of tables\n",
    "tables = {\n",
    "    'bronze_teachers': teachers,\n",
    "    'bronze_students': students\n",
    "}\n",
    "\n",
    "# Save each DataFrame to CSV\n",
    "for table_name, table in tables.items():\n",
    "    table.to_csv(output_path / f\"{table_name}.csv\", index=False)\n",
    "    print(f\"{table_name}.csv saved.\")\n",
    "\n",
    "print(\"All CSVs saved successfully.\")"
   ]
  }
 ],
 "metadata": {
  "kernelspec": {
   "display_name": "Python 3 (ipykernel)",
   "language": "python",
   "name": "python3"
  },
  "language_info": {
   "codemirror_mode": {
    "name": "ipython",
    "version": 3
   },
   "file_extension": ".py",
   "mimetype": "text/x-python",
   "name": "python",
   "nbconvert_exporter": "python",
   "pygments_lexer": "ipython3",
   "version": "3.11.13"
  }
 },
 "nbformat": 4,
 "nbformat_minor": 5
}
