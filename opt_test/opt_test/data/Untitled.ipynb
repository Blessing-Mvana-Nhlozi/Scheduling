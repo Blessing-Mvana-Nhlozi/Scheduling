{
 "cells": [
  {
   "cell_type": "code",
   "execution_count": 1,
   "id": "fbbca6c2-bf04-429f-aa4d-e8976553cb2e",
   "metadata": {},
   "outputs": [],
   "source": [
    "import pandas as pd\n",
    "from pathlib import Path\n",
    "from mlxtend.frequent_patterns import apriori, association_rules"
   ]
  },
  {
   "cell_type": "code",
   "execution_count": 49,
   "id": "446fe821-7217-48f4-936c-3d27bf7257f9",
   "metadata": {},
   "outputs": [],
   "source": [
    "student_subject = pd.read_csv(\"data/bronze/bronze_student_subject.csv\")\n",
    "student_grade = pd.read_csv(\"data/bronze/bronze_student_grade.csv\")\n",
    "\n",
    "teacher_subject = pd.read_csv(\"data/bronze/bronze_teacher_subject.csv\")\n",
    "teacher_grade = pd.read_csv(\"data/bronze/bronze_teacher_grade.csv\")"
   ]
  },
  {
   "cell_type": "code",
   "execution_count": 50,
   "id": "fa864079-c160-4bc0-8b1d-1a860e3aa8f5",
   "metadata": {},
   "outputs": [],
   "source": [
    "# # Count how many times each student appears\n",
    "# student_counts = student_subject['student'].value_counts().reset_index()\n",
    "# # Rename columns for clarity\n",
    "# student_counts.columns = ['student', 'num_subjects']\n",
    "\n",
    "# # Create a one-hot encoded matrix: rows = students, columns = subjects\n",
    "# basket = student_subject.groupby(['student', 'subject']).size().unstack(fill_value=0)\n",
    "# basket = basket.applymap(lambda x: 1 if x > 0 else 0)\n",
    "\n",
    "# # min_support = fraction of students that must have the subject combo\n",
    "# frequent_itemsets = apriori(basket, min_support=0.2, use_colnames=True)\n",
    "\n",
    "# rules = association_rules(frequent_itemsets, metric=\"lift\", min_threshold=1.0)"
   ]
  },
  {
   "cell_type": "code",
   "execution_count": 60,
   "id": "c32ed9be-c1f2-4e08-8d6b-154a40b1dd94",
   "metadata": {},
   "outputs": [
    {
     "data": {
      "text/html": [
       "<div>\n",
       "<style scoped>\n",
       "    .dataframe tbody tr th:only-of-type {\n",
       "        vertical-align: middle;\n",
       "    }\n",
       "\n",
       "    .dataframe tbody tr th {\n",
       "        vertical-align: top;\n",
       "    }\n",
       "\n",
       "    .dataframe thead th {\n",
       "        text-align: right;\n",
       "    }\n",
       "</style>\n",
       "<table border=\"1\" class=\"dataframe\">\n",
       "  <thead>\n",
       "    <tr style=\"text-align: right;\">\n",
       "      <th></th>\n",
       "      <th>start_time</th>\n",
       "      <th>end_time</th>\n",
       "    </tr>\n",
       "  </thead>\n",
       "  <tbody>\n",
       "    <tr>\n",
       "      <th>0</th>\n",
       "      <td>07:45:00</td>\n",
       "      <td>08:30:00</td>\n",
       "    </tr>\n",
       "    <tr>\n",
       "      <th>1</th>\n",
       "      <td>08:30:00</td>\n",
       "      <td>09:15:00</td>\n",
       "    </tr>\n",
       "    <tr>\n",
       "      <th>2</th>\n",
       "      <td>09:15:00</td>\n",
       "      <td>10:00:00</td>\n",
       "    </tr>\n",
       "    <tr>\n",
       "      <th>3</th>\n",
       "      <td>10:00:00</td>\n",
       "      <td>10:45:00</td>\n",
       "    </tr>\n",
       "    <tr>\n",
       "      <th>4</th>\n",
       "      <td>10:45:00</td>\n",
       "      <td>11:25:00</td>\n",
       "    </tr>\n",
       "    <tr>\n",
       "      <th>5</th>\n",
       "      <td>11:55:00</td>\n",
       "      <td>12:40:00</td>\n",
       "    </tr>\n",
       "    <tr>\n",
       "      <th>6</th>\n",
       "      <td>12:40:00</td>\n",
       "      <td>13:25:00</td>\n",
       "    </tr>\n",
       "    <tr>\n",
       "      <th>7</th>\n",
       "      <td>13:25:00</td>\n",
       "      <td>14:10:00</td>\n",
       "    </tr>\n",
       "    <tr>\n",
       "      <th>8</th>\n",
       "      <td>14:10:00</td>\n",
       "      <td>14:50:00</td>\n",
       "    </tr>\n",
       "  </tbody>\n",
       "</table>\n",
       "</div>"
      ],
      "text/plain": [
       "  start_time  end_time\n",
       "0   07:45:00  08:30:00\n",
       "1   08:30:00  09:15:00\n",
       "2   09:15:00  10:00:00\n",
       "3   10:00:00  10:45:00\n",
       "4   10:45:00  11:25:00\n",
       "5   11:55:00  12:40:00\n",
       "6   12:40:00  13:25:00\n",
       "7   13:25:00  14:10:00\n",
       "8   14:10:00  14:50:00"
      ]
     },
     "execution_count": 60,
     "metadata": {},
     "output_type": "execute_result"
    }
   ],
   "source": [
    "pd.read_csv(\"data/bronze/bronze_period_interval.csv\")"
   ]
  },
  {
   "cell_type": "code",
   "execution_count": null,
   "id": "3d84d651-dcbf-45c2-bbd8-0472a6e9e600",
   "metadata": {},
   "outputs": [],
   "source": []
  }
 ],
 "metadata": {
  "kernelspec": {
   "display_name": "Python 3 (ipykernel)",
   "language": "python",
   "name": "python3"
  },
  "language_info": {
   "codemirror_mode": {
    "name": "ipython",
    "version": 3
   },
   "file_extension": ".py",
   "mimetype": "text/x-python",
   "name": "python",
   "nbconvert_exporter": "python",
   "pygments_lexer": "ipython3",
   "version": "3.11.13"
  }
 },
 "nbformat": 4,
 "nbformat_minor": 5
}
