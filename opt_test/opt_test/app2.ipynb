{
 "cells": [
  {
   "cell_type": "code",
   "execution_count": 1,
   "id": "e45fb893-ced8-42e3-8950-3c52c3bfd9ef",
   "metadata": {},
   "outputs": [],
   "source": [
    "from ortools.sat.python import cp_model\n",
    "import pandas as pd"
   ]
  },
  {
   "cell_type": "code",
   "execution_count": 2,
   "id": "9f11617b-c3c9-47f9-ab34-7047568abf54",
   "metadata": {},
   "outputs": [],
   "source": [
    "# Read CSV\n",
    "class_list = pd.read_csv(\"class_list.csv\")\n",
    "timeslots_days = pd.read_csv(\"timeslots.csv\")\n",
    "\n",
    "lessons_required = pd.read_csv(\"lessons_required.csv\")\n",
    "weekday = pd.read_csv(\"weekdays.csv\")\n",
    "teacher_classes = pd.read_csv(\"teacher_classes.csv\")\n",
    "student_classes = pd.read_csv(\"student_classes.csv\")\n",
    "\n",
    "teacher_list = pd.read_csv(\"teacher_list.csv\")"
   ]
  },
  {
   "cell_type": "code",
   "execution_count": 3,
   "id": "0efcbb04-28cf-4d0a-bc9c-c8cc602f8e92",
   "metadata": {},
   "outputs": [],
   "source": [
    "student_classes = student_classes[student_classes['class']!='isizulu-12']"
   ]
  },
  {
   "cell_type": "code",
   "execution_count": 4,
   "id": "0e4cdd4f-42c0-47b5-bc0f-2d367ba3dfca",
   "metadata": {},
   "outputs": [],
   "source": [
    "classes = list(class_list['class'])# + ['isizulu-12']\n",
    "timeslots = list(timeslots_days['timeslot'])\n",
    "days = list(weekday['weekday'])\n",
    "# periods = range(9)\n",
    "teacher = list(teacher_list['teacher'])\n",
    "\n",
    "num_lessons = dict(zip(lessons_required[\"class\"], lessons_required[\"num_lessons\"]))\n",
    "class_teacher = dict(zip(teacher_classes[\"class\"], teacher_classes[\"teacher\"]))\n",
    "class_students = dict(zip(student_classes[\"class\"], student_classes[\"student\"]))"
   ]
  },
  {
   "cell_type": "code",
   "execution_count": 5,
   "id": "aa7cd91c-1a38-448c-ba8c-f36a2d974c9b",
   "metadata": {},
   "outputs": [],
   "source": [
    "num_lessons['isizulu-10'] = 0"
   ]
  },
  {
   "cell_type": "code",
   "execution_count": 6,
   "id": "9c2ed3c6-5c4d-4326-bd09-ce70190ae4b5",
   "metadata": {},
   "outputs": [],
   "source": [
    "model = cp_model.CpModel()"
   ]
  },
  {
   "cell_type": "markdown",
   "id": "98cad554-6e08-453f-af00-6d1137b68db4",
   "metadata": {},
   "source": [
    "## Variables\n",
    "\n",
    "We’ll create one **binary decision variable** per `(class, day, period)`"
   ]
  },
  {
   "cell_type": "code",
   "execution_count": 7,
   "id": "4ccd5200-b6d2-49b0-9130-26076797a258",
   "metadata": {},
   "outputs": [],
   "source": [
    "# Variables\n",
    "x = {}\n",
    "for c in classes:\n",
    "    for t in timeslots:\n",
    "        x[(c,t)] = model.NewBoolVar(f'x_{c}_{t}')"
   ]
  },
  {
   "cell_type": "markdown",
   "id": "dd150be5-5296-4a5c-95aa-8c4a2a31f715",
   "metadata": {},
   "source": [
    "## Constraints"
   ]
  },
  {
   "cell_type": "markdown",
   "id": "7e524af0-023e-4c22-8c26-f16456efc02b",
   "metadata": {},
   "source": [
    "### Required lessons per class\n",
    "\n",
    "Each class must be scheduled the exact number of times specified in `num_lessons`."
   ]
  },
  {
   "cell_type": "code",
   "execution_count": 8,
   "id": "19f2540d-9422-4426-9493-b00c90c5a008",
   "metadata": {},
   "outputs": [],
   "source": [
    "# Constraint: each class gets required lessons\n",
    "for c in classes:\n",
    "    model.Add(sum(x[(c,t)] for t in timeslots) == num_lessons[c])"
   ]
  },
  {
   "cell_type": "markdown",
   "id": "fad95708-d1db-430f-beba-cbd704ccb002",
   "metadata": {},
   "source": [
    "### Teachers cannot be double-booked\n",
    "\n",
    "For each `(day, period)`, a teacher can only teach one of their classes."
   ]
  },
  {
   "cell_type": "code",
   "execution_count": 9,
   "id": "9376b78c-35e3-4235-b9ef-6063845f2298",
   "metadata": {},
   "outputs": [],
   "source": [
    "for t in timeslots:\n",
    "    for ct in set(class_teacher.values()):  # each teacher\n",
    "        teaching_classes = [cls for cls, teacher in class_teacher.items() if teacher == ct]\n",
    "        if teaching_classes:\n",
    "            model.Add(sum(x[(c,t)] for c in teaching_classes if c in classes) <= 1)"
   ]
  },
  {
   "cell_type": "markdown",
   "id": "a996a1db-9f33-451d-9bcb-4e1fe5853f6b",
   "metadata": {},
   "source": [
    "### Students cannot be double-booked\n",
    "\n",
    "Same idea: For each `(day, period)`, a student can only attend one class."
   ]
  },
  {
   "cell_type": "code",
   "execution_count": 10,
   "id": "42f19a3a-42d2-4bcc-bdf5-ea0094ceee65",
   "metadata": {},
   "outputs": [],
   "source": [
    "for t in timeslots:\n",
    "    for s in set(class_students.values()):\n",
    "        enrolled_classes = [c for c, students in class_students.items() if s in students]\n",
    "        if enrolled_classes:\n",
    "            model.Add(sum(x[(c,t)] for c in enrolled_classes if c in classes) <= 1)"
   ]
  },
  {
   "cell_type": "markdown",
   "id": "05f63706-2157-4537-891d-02e680339e1b",
   "metadata": {},
   "source": [
    "### Spread lessons across days (soft preference)\n",
    "\n",
    "For now, we’ll keep it simple, but later we can add an **objective** to penalize imbalance."
   ]
  },
  {
   "cell_type": "code",
   "execution_count": 11,
   "id": "bdcdc544-6ddc-40b3-a6cc-cc424f825fab",
   "metadata": {},
   "outputs": [],
   "source": [
    "for c in classes:\n",
    "    lessons = num_lessons[c]\n",
    "    for d in days:\n",
    "        if lessons <= 4:\n",
    "            # Spread: at most 1 per day\n",
    "            model.Add(sum(x[(c, t)] for p in timeslots) <= 1)\n",
    "        else:\n",
    "            # Allow 2 per day if more than 5 lessons in total\n",
    "            model.Add(sum(x[(c, t)] for p in timeslots) <= 2)"
   ]
  },
  {
   "cell_type": "markdown",
   "id": "b71d110a-f2b8-4282-b9b4-1eaf02817f14",
   "metadata": {},
   "source": [
    "## Step 3. Solver & Output"
   ]
  },
  {
   "cell_type": "code",
   "execution_count": 12,
   "id": "43d04964-0a29-4f54-b910-f2b6a4af31d1",
   "metadata": {},
   "outputs": [],
   "source": [
    "solver = cp_model.CpSolver()\n",
    "solver.parameters.max_time_in_seconds = 10\n",
    "status = solver.Solve(model)"
   ]
  },
  {
   "cell_type": "code",
   "execution_count": 13,
   "id": "8fb1bf06-4921-4916-aff7-971e372d9ab8",
   "metadata": {},
   "outputs": [
    {
     "name": "stdout",
     "output_type": "stream",
     "text": [
      "Solution written to timetable_solution.csv\n"
     ]
    }
   ],
   "source": [
    "if status in [cp_model.OPTIMAL, cp_model.FEASIBLE]:\n",
    "    rows = []\n",
    "    for (c, t), var in x.items():\n",
    "        if solver.Value(var) == 1:\n",
    "            slots = f\"{t}\"\n",
    "            rows.append([slots, c])\n",
    "    output = pd.DataFrame(rows, columns=[\"timeslot\", \"class\"])\n",
    "    output.to_csv(\"timetable2.csv\", index=False)\n",
    "    print(\"Solution written to timetable_solution.csv\")\n",
    "else:\n",
    "    print(\"No feasible solution found\")"
   ]
  },
  {
   "cell_type": "code",
   "execution_count": 14,
   "id": "eb3333e3-0eb8-422a-8d2e-324150cc6205",
   "metadata": {},
   "outputs": [],
   "source": [
    "# python opt_test.py timetable2.csv"
   ]
  }
 ],
 "metadata": {
  "kernelspec": {
   "display_name": "Python 3 (ipykernel)",
   "language": "python",
   "name": "python3"
  },
  "language_info": {
   "codemirror_mode": {
    "name": "ipython",
    "version": 3
   },
   "file_extension": ".py",
   "mimetype": "text/x-python",
   "name": "python",
   "nbconvert_exporter": "python",
   "pygments_lexer": "ipython3",
   "version": "3.11.13"
  }
 },
 "nbformat": 4,
 "nbformat_minor": 5
}
